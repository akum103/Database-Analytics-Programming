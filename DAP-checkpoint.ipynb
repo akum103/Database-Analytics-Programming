{
 "cells": [
  {
   "cell_type": "code",
   "execution_count": 9,
   "id": "b56ab20e",
   "metadata": {},
   "outputs": [],
   "source": [
    "import json #Import Json to load Json data\n",
    "import pymysql #PyMySql is used to connect Python and MySql\n",
    "\n",
    "json_file_path = r\"C:\\Users\\ankit\\OneDrive\\Desktop\\wORK fiLES\\NCI Files\\Semester I\\DAP\\elec.json\" #JSON File Path\n",
    "\n",
    "with open(json_file_path, 'r') as json_file:\n",
    "    json_data = json.load(json_file)\n",
    "\n",
    "#This is connecting to the mysql workbench present at local host\n",
    "connection = pymysql.connect (host = 'localhost',user = 'root',password = 'Sushma09(',database = 'dap') \n",
    "\n",
    "#Find Version of the MySql workbench\n",
    "# try:\n",
    "\n",
    "#     with connection.cursor() as cur:\n",
    "\n",
    "#         cur.execute('SELECT VERSION()')\n",
    "\n",
    "#         version = cur.fetchone()\n",
    "\n",
    "#         print(f'Database version: {version[0]}')\n",
    "\n",
    "# finally:\n",
    "\n",
    "#     connection.close()\n",
    "\n",
    "\n",
    "cursor = connection.cursor()\n",
    "\n",
    "for item in json_data:\n",
    "    STATISTIC = item.get(\"STATISTIC\"),\n",
    "    Statistic_Label = item.get(\"Statistic Label\"),\n",
    "    tlist = item.get(\"TLIST(A1)\"),\n",
    "    year_year = item.get(\"Year\"),\n",
    "    C03815V04565 = item.get(\"C03815V04565\"),\n",
    "    Ccounties = item.get(\"Counties & Dublin Postal Districts\"),\n",
    "    C03816V04566 = item.get(\"C03816V04566\"),\n",
    "    Sector = item.get(\"Sector\"),\n",
    "    UNIT = item.get(\"UNIT\"),\n",
    "    VALUE = item.get(\"VALUE\")\n",
    "    \n",
    "    query = \"INSERT INTO elec (STATISTIC, Statistic_Label, tlist, year_year, C03815V04565, Ccounties, C03816V04566, Sector, UNIT, VALUE) VALUES (%s, %s, %s, %s, %s, %s, %s, %s, %s, %s)\"\n",
    "    cursor.execute(query, (STATISTIC, Statistic_Label, tlist, year_year, C03815V04565, Ccounties, C03816V04566, Sector, UNIT, VALUE))\n",
    "connection.commit()\n",
    "connection.close()\n"
   ]
  },
  {
   "cell_type": "code",
   "execution_count": null,
   "id": "75a820b9",
   "metadata": {},
   "outputs": [],
   "source": []
  },
  {
   "cell_type": "code",
   "execution_count": null,
   "id": "e5a55424",
   "metadata": {},
   "outputs": [],
   "source": []
  },
  {
   "cell_type": "code",
   "execution_count": null,
   "id": "a300636c",
   "metadata": {},
   "outputs": [],
   "source": []
  },
  {
   "cell_type": "code",
   "execution_count": null,
   "id": "e4065f0b",
   "metadata": {},
   "outputs": [],
   "source": []
  }
 ],
 "metadata": {
  "kernelspec": {
   "display_name": "Python 3 (ipykernel)",
   "language": "python",
   "name": "python3"
  },
  "language_info": {
   "codemirror_mode": {
    "name": "ipython",
    "version": 3
   },
   "file_extension": ".py",
   "mimetype": "text/x-python",
   "name": "python",
   "nbconvert_exporter": "python",
   "pygments_lexer": "ipython3",
   "version": "3.11.4"
  }
 },
 "nbformat": 4,
 "nbformat_minor": 5
}
